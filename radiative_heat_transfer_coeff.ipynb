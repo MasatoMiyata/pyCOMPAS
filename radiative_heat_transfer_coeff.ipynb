{
 "cells": [
  {
   "cell_type": "code",
   "execution_count": 1,
   "metadata": {},
   "outputs": [],
   "source": [
    "import numpy as np\n",
    "import radiative_heat_transfer_coeff as radiative"
   ]
  },
  {
   "attachments": {},
   "cell_type": "markdown",
   "metadata": {},
   "source": [
    "# 永田が提案する放射熱伝達率を計算する"
   ]
  },
  {
   "attachments": {},
   "cell_type": "markdown",
   "metadata": {},
   "source": [
    "## 文献\n",
    "永田明寛：室内長波放射交換の簡易モデリング、日本建築学会大会学術講演梗概集、pp. 25-26、2016.8 \n",
    "\n",
    "## 特徴\n",
    "部位の面積と放射率から、相反則、自己形態係数０を満たす放射熱伝達率を計算する\n",
    "\n",
    "## 概要\n",
    "室内各面間の放射伝熱を、空間内の微小球と当該面との放射伝熱で表す。<br>\n",
    "この時の、各面と微小球の放射熱伝達率と微小球の温度（空間の平均放射温度）を計算する。\n",
    "\n",
    "## ライブラリ\n",
    "numpy\n",
    "scipy.optimize"
   ]
  },
  {
   "attachments": {},
   "cell_type": "markdown",
   "metadata": {},
   "source": [
    "### 放射熱伝達率\n",
    "放射熱伝達率は、微小球から面を見た形態係数と放射率から次の式で求められる。<br>\n",
    "$$ h_r=\\dfrac{ε} {1-ε⋅f_{mrt} } ⋅4⋅σ⋅(MRT+273.15)^3 $$ \n",
    "$ h_r $ :放射熱伝達率[W/(m2･K)]<br>\n",
    "$ ε $ :放射率[-]<br>\n",
    "$ f_mrt $ :微小球から面を見た形態係数[-]<br>\n",
    "$ σ $ :ステファンボルツマン定数<br>\n",
    "$ MRT $ :平均放射温度[℃]<br>\n",
    "\n",
    "### 微小球から面を見た形態係数\n",
    "微小球から面を見た形態係数\n",
    "$$ f_{mrt}=0.5⋅(1-\\sqrt{1-4⋅\\dfrac {a} {\\bar{f}}}) $$\n",
    "$ a $ :空間の全面積に対する当該部位の面積の比[-]<br>\n",
    "$ \\bar{f} $ :次の式を満たす値<br>\n",
    "$$ 0.5 ⋅ \\sum_{k=1}^N (1-\\sqrt{1-4⋅\\dfrac {a} {\\bar{f}}}) =1 $$\n",
    "$ k $ :空間の面番号<br>\n",
    "$ N $ :空間の面の総数"
   ]
  },
  {
   "attachments": {},
   "cell_type": "markdown",
   "metadata": {},
   "source": [
    "### 例題\n",
    "間口5m、奥行6m、高さ3mの空間の放射熱伝達率を計算する。<br>\n",
    "面積は以下の通り。<br>\n",
    "床・天井：30m2<br>\n",
    "壁：18m2×2面、15m2×2面 <br>\n",
    "各面の放射率は一律0.9とする。"
   ]
  },
  {
   "cell_type": "code",
   "execution_count": 2,
   "metadata": {},
   "outputs": [],
   "source": [
    "# 面積を有する配列の作成\n",
    "area = np.array([30.0, 30.0, 18.0, 18.0, 15.0, 15.0])\n",
    "\n",
    "# 放射率を有する配列の作成\n",
    "emissivity = np.full(len(area), 0.9)"
   ]
  },
  {
   "cell_type": "code",
   "execution_count": 3,
   "metadata": {},
   "outputs": [
    {
     "name": "stdout",
     "output_type": "stream",
     "text": [
      "[6.70850247 6.70850247 5.84116796 5.84116796 5.69390766 5.69390766]\n"
     ]
    }
   ],
   "source": [
    "# 放射熱伝達率の計算\n",
    "h_r = radiative.calc_radiative_heat_transfer_coeff(area=area, emissivity=emissivity, mrt=20)\n",
    "\n",
    "print(h_r)"
   ]
  },
  {
   "cell_type": "code",
   "execution_count": 4,
   "metadata": {},
   "outputs": [
    {
     "name": "stdout",
     "output_type": "stream",
     "text": [
      "[0.25683085 0.25683085 0.13417529 0.13417529 0.10899386 0.10899386]\n",
      "1.0\n"
     ]
    }
   ],
   "source": [
    "# 微小球の放射温度計算における各面の重み\n",
    "weights = radiative.calc_weights_for_mrt(h_r=h_r, area=area)\n",
    "\n",
    "print(weights)\n",
    "print(np.sum(weights))"
   ]
  }
 ],
 "metadata": {
  "kernelspec": {
   "display_name": "base",
   "language": "python",
   "name": "python3"
  },
  "language_info": {
   "codemirror_mode": {
    "name": "ipython",
    "version": 3
   },
   "file_extension": ".py",
   "mimetype": "text/x-python",
   "name": "python",
   "nbconvert_exporter": "python",
   "pygments_lexer": "ipython3",
   "version": "3.9.13"
  },
  "orig_nbformat": 4,
  "vscode": {
   "interpreter": {
    "hash": "abe4748a002f17b3511019f94853b8cd3ad50bb5d2bf0da510f7d71cf814fa5a"
   }
  }
 },
 "nbformat": 4,
 "nbformat_minor": 2
}
