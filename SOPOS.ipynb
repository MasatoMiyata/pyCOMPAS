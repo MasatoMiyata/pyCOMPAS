{
 "cells": [
  {
   "cell_type": "markdown",
   "metadata": {},
   "source": [
    "## COMPAS プログラム説明書サンプル\n",
    "\n",
    "### プログラム名\n",
    "\n",
    "* SOPOS (太陽位置)"
   ]
  },
  {
   "cell_type": "markdown",
   "metadata": {},
   "source": [
    "### 内容説明\n",
    "\n",
    "* 緯度、経度、⽉、⽇、時刻をもとに太陽位置を求めるプログラムである。\n",
    "* 太陽位置を表すものとして、 sinh、sinA、cosA（h：太陽⾼度、A：太陽⽅位⾓）の3つを求める。"
   ]
  },
  {
   "cell_type": "markdown",
   "metadata": {},
   "source": [
    "### 引数\n",
    "  \n",
    "* FN 北緯（南緯はマイナス） (°) \n",
    "* EL 東経（⻄経はマイナス） (°) \n",
    "* M ⽉ \n",
    "* N ⽇ \n",
    "* HJ ⽇本標準時（時） "
   ]
  },
  {
   "cell_type": "markdown",
   "metadata": {},
   "source": [
    "### プログラム（python）"
   ]
  },
  {
   "cell_type": "code",
   "execution_count": 139,
   "metadata": {},
   "outputs": [],
   "source": [
    "import math"
   ]
  },
  {
   "cell_type": "markdown",
   "metadata": {},
   "source": [
    "1. 通し日数の算出"
   ]
  },
  {
   "cell_type": "code",
   "execution_count": 140,
   "metadata": {},
   "outputs": [],
   "source": [
    "def D(M,N):\n",
    "    \"\"\"\n",
    "    1⽉1⽇を1として順に数えた通し⽇数\n",
    "    \"\"\"\n",
    "\n",
    "    y = 30*(M-1)+(M+M/8)/2-(M+7)/10+N\n",
    "\n",
    "    return y"
   ]
  },
  {
   "cell_type": "markdown",
   "metadata": {},
   "source": [
    "2. 日赤緯の算出\n",
    "\n",
    "⽇⾚緯 δ [°] は次式で算出される（滝沢による）。 \n",
    "\n",
    "$$\n",
    "\\sigma = 0.3622133 - 23.24763*cos(\\omega + 0.1532310) ― 0.3368908 * cos (2\\omega + 0.2070988) - 0.1852646 * cos(3\\omega + 0.6201293) \n",
    "$$\n",
    "\n",
    "ここで、$ \\omega = 2 \\pi d/366 $  であり、dは1⽉1⽇を1として順に数えた通し日数である。"
   ]
  },
  {
   "cell_type": "code",
   "execution_count": 141,
   "metadata": {},
   "outputs": [],
   "source": [
    "def DEL(W):\n",
    "    \"\"\"\n",
    "    日赤緯[°]を求める関数（滝沢による）\n",
    "    \"\"\"\n",
    "\n",
    "    y = 0.3622133 \\\n",
    "        - 23.24763  * math.cos( W + 0.153231) \\\n",
    "        - 0.3368908 * math.cos(2.0 * W + 0.2070988) \\\n",
    "        - 0.1852646 * math.cos(3.0 * W + 0.6201293)\n",
    "\n",
    "    return y"
   ]
  },
  {
   "cell_type": "markdown",
   "metadata": {},
   "source": [
    "3. 均時差の算出\n",
    "\n",
    "均時差 e [h] は次式で算出される（滝沢による）。\n",
    "\n",
    "$$\n",
    "e = -0.0002786409 + 0.1227715 * cos(\\omega + 1.498311) - 0.1654575 *cos(2\\omega - 1.261546) - 0.005353830 * cos(3\\omega - 1.157100)\n",
    "$$\n",
    "\n",
    "ここで、$ \\omega = 2 \\pi d/366 $  であり、dは1⽉1⽇を1として順に数えた通し日数である。"
   ]
  },
  {
   "cell_type": "code",
   "execution_count": 142,
   "metadata": {},
   "outputs": [],
   "source": [
    "def EQT(W):\n",
    "\n",
    "    y = -0.0002786409 \\\n",
    "        + 0.1227715   * math.cos( W + 1.498311) \\\n",
    "        - 0.1654575   * math.cos(2.0 * W - 1.261546) \\\n",
    "        - 0.005353830 * math.cos(3.0 * W - 1.157100)\n",
    "\n",
    "    return y"
   ]
  },
  {
   "cell_type": "markdown",
   "metadata": {},
   "source": [
    "4. 太陽位置の計算\n",
    "\n",
    "時角 t は次式で算出される。\n",
    "\n",
    "$$\n",
    "t = 15 * (t_s - 12 + e) + L + L_0\n",
    "$$\n",
    "\n",
    "ここで、  \n",
    "    $t_s$：中央標準時 [時]  \n",
    "    $𝐿$、$𝐿_0$ ：その⼟地と中央標準時の基準となる⼟地の経度 [°]  \n",
    "\n",
    "太陽高度をh、太陽方位角をAとすると、太陽位置を表すsinh、sinA、cosAは次式で算出される。\n",
    "\n",
    "\n",
    "$$\n",
    "sinh = sin \\varphi \\cdot sin \\delta + cos \\varphi \\cdot cos \\delta \\cdot cos t \n",
    "$$\n",
    "\n",
    "$$\n",
    "cosh = \\sqrt{1-sinh^{2}}\n",
    "$$\n",
    "\n",
    "$$\n",
    "sinA = \\frac{sin t \\cdot cos \\delta}{cosh}\n",
    "$$\n",
    "\n",
    "$$\n",
    "cosA = \\frac{sinh \\cdot sin \\varphi - sin \\delta}{cosh \\cdot cos \\varphi}\n",
    "$$\n",
    "\n",
    "ここで、\n",
    "$\\varphi$：その⼟地の緯度\n",
    "\n",
    "ただし、sinh<0、sinA<0、cosA<0 などのときは、SH=0、SA=0、CA=0 とする。"
   ]
  },
  {
   "cell_type": "code",
   "execution_count": 143,
   "metadata": {},
   "outputs": [],
   "source": [
    "def SOPOS(FN,EL,M,N,HJ):\n",
    "    \"\"\"\n",
    "    太陽位置を求める関数。\n",
    "    HJ には真太陽時を⼊れる。\n",
    "    # 出力\n",
    "    # SH : sinh \n",
    "    # SA : sinA \n",
    "    # CA : cosA \n",
    "    \"\"\"\n",
    "    \n",
    "    PAI  = 3.141593\n",
    "    RADI = 0.01745329\n",
    "    ELS  = 135.0\n",
    "\n",
    "    W = PAI * D(M,N) / 183.0\n",
    "\n",
    "    # 時⾓ T [°]\n",
    "    T = 15.0 * (HJ - 12.0 + EQT(W)) + EL - ELS\n",
    "    # T = 15.0 * (HJ - 12.0)\n",
    "\n",
    "    # TJ 太陽時（時）\n",
    "    TJ = T/15.+12\n",
    "\n",
    "    FN1=FN*RADI\n",
    "    SF=math.sin(FN1)\n",
    "    CF=math.cos(FN1)\n",
    "    DEL1=DEL(W)*RADI\n",
    "\n",
    "    SD=math.sin(DEL1)\n",
    "    CD=math.cos(DEL1)\n",
    "\n",
    "    T1=T*RADI\n",
    "    CT=math.cos(T1)\n",
    "    ST=math.sin(T1)\n",
    "\n",
    "    SH=SF*SD+CF*CD*CT\n",
    "\n",
    "    if (SH > 0):\n",
    "        CH=math.sqrt(1.0-SH**2)\n",
    "        SA=CD*ST/CH\n",
    "        CA=(SH*SF-SD)/(CH*CF)\n",
    "    else:\n",
    "        SH=0.0\n",
    "        SA=0.0\n",
    "        CA=0.0\n",
    "\n",
    "    return SH, SA, CA, TJ\n"
   ]
  },
  {
   "cell_type": "markdown",
   "metadata": {},
   "source": [
    "### 例題"
   ]
  },
  {
   "cell_type": "code",
   "execution_count": 144,
   "metadata": {},
   "outputs": [
    {
     "name": "stdout",
     "output_type": "stream",
     "text": [
      "1 0.0 0.0 0.0 1.2685730341959562\n",
      "2 0.0 0.0 0.0 2.2685730341959562\n",
      "3 0.0 0.0 0.0 3.2685730341959562\n",
      "4 0.0 0.0 0.0 4.268573034195955\n",
      "5 0.0 0.0 0.0 5.2685730341959545\n",
      "6 0.17349096726437302 -0.9920883576623617 -0.1255415890882299 6.2685730341959545\n",
      "7 0.3769955613099495 -0.9997052272849931 0.024278767247543513 7.2685730341959545\n",
      "8 0.5628225104171131 -0.9820478002305052 0.18863222964919293 8.268573034195954\n",
      "9 0.7183080187337056 -0.923090124611318 0.38458369940113357 9.268573034195954\n",
      "10 0.8328560088621756 -0.7749543462527956 0.6320172159236663 10.268573034195954\n",
      "11 0.8986602268160498 -0.4249688324638148 0.9052079824185943 11.268573034195954\n",
      "12 0.9112362251759273 0.1670653782861992 0.9859458196970513 12.268573034195954\n",
      "13 0.8697269706824675 0.6470575990799504 0.7624411213155351 13.268573034195954\n",
      "14 0.7769612496199321 0.8706469581663843 0.4919084002490942 14.268573034195954\n",
      "15 0.6392608907610501 0.9616918707623388 0.2741327155040668 15.268573034195954\n",
      "16 0.4660099433071685 0.9952202806361371 0.09765548121088007 16.268573034195953\n",
      "17 0.2690151696266653 0.9983653624741188 -0.05715420379920903 17.268573034195953\n",
      "18 0.06170143414215617 0.9789089887313297 -0.20429682273840077 18.268573034195953\n",
      "19 0.0 0.0 0.0 19.268573034195953\n",
      "20 0.0 0.0 0.0 20.268573034195953\n",
      "21 0.0 0.0 0.0 21.268573034195953\n",
      "22 0.0 0.0 0.0 22.268573034195953\n",
      "23 0.0 0.0 0.0 23.268573034195953\n",
      "24 0.0 0.0 0.0 24.268573034195953\n"
     ]
    }
   ],
   "source": [
    "FN = 35.68     # 北緯\n",
    "EL = 139.77    # 東経\n",
    "M  = 8         # 月\n",
    "N  = 23        # 日\n",
    "\n",
    "for hour in range(0,24):\n",
    "\n",
    "    # 日本標準時\n",
    "    HJ = hour+1\n",
    "\n",
    "    SH, SA, CA, TJ = SOPOS(FN,EL,M,N,HJ)\n",
    "\n",
    "    print(HJ, SH, SA, CA, TJ)\n"
   ]
  },
  {
   "cell_type": "markdown",
   "metadata": {},
   "source": [
    "### 制約・⽋点\n",
    "\n",
    "* 時刻 HJ は、⽇本標準時となっている。ELS=135.0 は明⽯の東経を⽰しているので、外国の時刻のときに は注意を要す。\n",
    "* ⽇出、⽇没を求めるプログラムにはなっていない。\n",
    "* ⽇⾚緯、均時差などは、ある⼀⽇では同⼀の値をとるので、時刻別に幾度もCALLするときなどは、DEL(W)、 EQT(W)の計算は無駄になっている。\n",
    "* W の計算において、1 年を 366 ⽇とみなしているので、最⼤ 1 ⽇分の太陽位置の誤差が出る。\n",
    "* 現状では、中央標準時での太陽位置を求めることになっているが、太陽時における太陽位置を求めようにするときには、コメント⾏を⽣かすとよい。\n"
   ]
  },
  {
   "cell_type": "markdown",
   "metadata": {},
   "source": []
  }
 ],
 "metadata": {
  "interpreter": {
   "hash": "aee8b7b246df8f9039afb4144a1f6fd8d2ca17a180786b69acc140d282b71a49"
  },
  "kernelspec": {
   "display_name": "Python 3.9.12 64-bit",
   "language": "python",
   "name": "python3"
  },
  "language_info": {
   "codemirror_mode": {
    "name": "ipython",
    "version": 3
   },
   "file_extension": ".py",
   "mimetype": "text/x-python",
   "name": "python",
   "nbconvert_exporter": "python",
   "pygments_lexer": "ipython3",
   "version": "3.9.12"
  },
  "orig_nbformat": 4
 },
 "nbformat": 4,
 "nbformat_minor": 2
}
